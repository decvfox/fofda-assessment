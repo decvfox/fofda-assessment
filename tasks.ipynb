{
 "cells": [
  {
   "cell_type": "markdown",
   "metadata": {},
   "source": [
    "# Fundamentals of Data Analysis Tasks\n",
    "\n",
    "**Declan Fox**"
   ]
  },
  {
   "cell_type": "markdown",
   "metadata": {},
   "source": [
    "## Task 1: The Collatz Conjecture\n",
    "\n",
    ">The Collatz conjecture is a famous unsolved problem in mathematics. The problem is to prove that if you start with any positive >integer $x$ and repeatedly apply the function $f(x)$ below, you always get stuck in the repeating sequence 1, 4, 2, 1, 4, 2, . . .\n",
    ">$$ f(x) = \n",
    ">\\begin{cases}\n",
    ">{x ÷ 2}, & \\text{if x is even} \\\\\n",
    ">{3x + 1}, & \\text{otherwise}\n",
    ">\\end{cases} $$\n",
    ">For example, starting with the value 10, which is an even number,\n",
    ">we divide it by 2 to get 5. Then 5 is an odd number so, we multiply by 3 and add 1 to get 16. Then we repeatedly divide by 2 to\n",
    ">get 8, 4, 2, 1. Once we are at 1, we go back to 4 and get stuck in the\n",
    ">repeating sequence 4, 2, 1 as we suspected.\n",
    ">This task is to verify, using Python, that the conjecture is true for\n",
    ">the first 10,000 positive integers.\n"
   ]
  },
  {
   "cell_type": "code",
   "execution_count": 11,
   "metadata": {},
   "outputs": [],
   "source": [
    "def f(x):\n",
    "    #if x is even, divide by 2\n",
    "    if x % 2 == 0:\n",
    "        return x // 2\n",
    "    else:\n",
    "        return (3 * x) + 1"
   ]
  },
  {
   "cell_type": "markdown",
   "metadata": {},
   "source": [
    "The following function will return a list of all the integers resulting from testing Collatz for a given integer $x$"
   ]
  },
  {
   "cell_type": "code",
   "execution_count": 12,
   "metadata": {},
   "outputs": [],
   "source": [
    "def collatz(x):\n",
    "    ints = []\n",
    "    while x != 1:\n",
    "        x = f(x)\n",
    "        ints.append(x)\n",
    "    return ints"
   ]
  },
  {
   "cell_type": "code",
   "execution_count": 13,
   "metadata": {},
   "outputs": [
    {
     "name": "stdout",
     "output_type": "stream",
     "text": [
      "Output for positive integer 1:\n",
      "[]\n",
      "Output for positive integer 2:\n",
      "[1]\n",
      "Output for positive integer 3:\n",
      "[10, 5, 16, 8, 4, 2, 1]\n",
      "Output for positive integer 4:\n",
      "[2, 1]\n"
     ]
    }
   ],
   "source": [
    "for i in range(1, 5):\n",
    "    print(f'Output for positive integer {i}:')\n",
    "    print(collatz(i))"
   ]
  },
  {
   "cell_type": "markdown",
   "metadata": {},
   "source": [
    "As we have tested integers 1 to 4 and found that they uphold the Collatz conjecture and assuming that if a list of integers resulting from calculating an integer that is $> 4$ and is Collatz compliant ends in $4, 2, 1$ then the conjecture is true for that integer."
   ]
  },
  {
   "cell_type": "code",
   "execution_count": 14,
   "metadata": {},
   "outputs": [
    {
     "name": "stdout",
     "output_type": "stream",
     "text": [
      "numbers 1 to 10000: are Collatz Compliant\n"
     ]
    }
   ],
   "source": [
    "# test numbers 4 to 10000\n",
    "for i in range(1, 10001):\n",
    "    if i > 4:\n",
    "        # check last 3 numbers\n",
    "        if (collatz(i)[-3:]) == [4, 2, 1]:\n",
    "            latest_num = i\n",
    "        else: break # exit loop if last 3 numbers of list are not 4, 2 and 1\n",
    "print(f'numbers 1 to {latest_num}: are Collatz Compliant')"
   ]
  },
  {
   "cell_type": "markdown",
   "metadata": {},
   "source": [
    "## Task 2: Penguins Dataset - Overview & Variable Types"
   ]
  },
  {
   "cell_type": "markdown",
   "metadata": {},
   "source": [
    "> Give an overview of the famous penguins data set, explaining the types of variables it contains. Suggest the types of variables that should be used to model them in Python, explaining your rationale."
   ]
  },
  {
   "cell_type": "markdown",
   "metadata": {},
   "source": [
    "#### Overview\n",
    "The Palmer Archipelago (Antarctica) penguin dataset consists of penguin data collected in antarctica. It consists of data for 344 penguins in the following 7 columns:\n",
    "\n",
    "species - Adélie, Chinstrap or Gentoo\n",
    "\n",
    "island - Biscoe, Dream or Torgersen\n",
    "\n",
    "bill_length_mm - bill length in millimeters \n",
    "\n",
    "bill_depth_mm - bill depth in millimeters\n",
    "\n",
    "flipper_length_mm - flipper length in millimeters\n",
    "\n",
    "body_mass_g - body mass grams\n",
    "\n",
    "sex -  female or male\n",
    "\n",
    "The penguin dataset is becoming popular as a replacement for the Fisher's Iris Dataset due to Fishers dataset's links to eugenics.\n",
    "\n",
    "https://towardsdatascience.com/penguins-dataset-overview-iris-alternative-9453bb8c8d95\n",
    "https://www.researchgate.net/profile/Kristen-B-Gorman/publication/362573623_Palmer_Archipelago_Penguins_Data_in_the_palmerpenguins_R_Package_-_An_Alternative_to_Anderson's_Irises/links/63100bec1ddd44702125ddbc/Palmer-Archipelago-Penguins-Data-in-the-palmerpenguins-R-Package-An-Alternative-to-Andersons-Irises.pdf\n",
    "https://www.kaggle.com/code/parulpandey/penguin-dataset-the-new-iris\n"
   ]
  },
  {
   "cell_type": "code",
   "execution_count": 15,
   "metadata": {},
   "outputs": [],
   "source": [
    "import pandas as pd\n",
    "import matplotlib.pyplot as plt"
   ]
  },
  {
   "cell_type": "markdown",
   "metadata": {},
   "source": [
    "#### Download dataset"
   ]
  },
  {
   "cell_type": "code",
   "execution_count": 16,
   "metadata": {},
   "outputs": [],
   "source": [
    "df = pd.read_csv(\"https://raw.githubusercontent.com/mwaskom/seaborn-data/master/penguins.csv\")"
   ]
  },
  {
   "cell_type": "markdown",
   "metadata": {},
   "source": [
    "use info() method to get data frame information, such as column names, column data types and number of non-null rows in each column."
   ]
  },
  {
   "cell_type": "code",
   "execution_count": 17,
   "metadata": {},
   "outputs": [
    {
     "name": "stdout",
     "output_type": "stream",
     "text": [
      "<class 'pandas.core.frame.DataFrame'>\n",
      "RangeIndex: 344 entries, 0 to 343\n",
      "Data columns (total 7 columns):\n",
      " #   Column             Non-Null Count  Dtype  \n",
      "---  ------             --------------  -----  \n",
      " 0   species            344 non-null    object \n",
      " 1   island             344 non-null    object \n",
      " 2   bill_length_mm     342 non-null    float64\n",
      " 3   bill_depth_mm      342 non-null    float64\n",
      " 4   flipper_length_mm  342 non-null    float64\n",
      " 5   body_mass_g        342 non-null    float64\n",
      " 6   sex                333 non-null    object \n",
      "dtypes: float64(4), object(3)\n",
      "memory usage: 18.9+ KB\n"
     ]
    }
   ],
   "source": [
    "df.info()"
   ]
  },
  {
   "cell_type": "markdown",
   "metadata": {},
   "source": [
    "Unique values"
   ]
  },
  {
   "cell_type": "code",
   "execution_count": 18,
   "metadata": {},
   "outputs": [
    {
     "name": "stdout",
     "output_type": "stream",
     "text": [
      "Species: ['Adelie' 'Chinstrap' 'Gentoo']\n",
      "Islands: ['Torgersen' 'Biscoe' 'Dream']\n"
     ]
    },
    {
     "data": {
      "text/plain": [
       "MALE      168\n",
       "FEMALE    165\n",
       "Name: sex, dtype: int64"
      ]
     },
     "execution_count": 18,
     "metadata": {},
     "output_type": "execute_result"
    }
   ],
   "source": [
    "# number of species\n",
    "a = df['species'].unique()\n",
    "# number of islands\n",
    "b = df['island'].unique()\n",
    "print(f'Species: {a}\\nIslands: {b}')\n",
    "#number male vs. female\n",
    "df.sex.value_counts()"
   ]
  },
  {
   "cell_type": "markdown",
   "metadata": {},
   "source": [
    "We can see from above that all the measurement datatypes are floats and the othe variables are strings"
   ]
  },
  {
   "cell_type": "markdown",
   "metadata": {},
   "source": [
    "## Task 3: Penguins Data Set - Probability Distributions"
   ]
  },
  {
   "cell_type": "markdown",
   "metadata": {},
   "source": [
    "> For each of the variables in the penguins data set, suggest what probability distribution from the numpy random distributions list is the most appropriate to model the variable."
   ]
  },
  {
   "cell_type": "markdown",
   "metadata": {},
   "source": [
    "#### quick histogram plots"
   ]
  },
  {
   "cell_type": "code",
   "execution_count": 26,
   "metadata": {},
   "outputs": [
    {
     "data": {
      "image/png": "[encoded data removed]",
      "text/plain": [
       "<Figure size 1000x500 with 4 Axes>"
      ]
     },
     "metadata": {},
     "output_type": "display_data"
    }
   ],
   "source": [
    "fig, ((ax, ax1, ax2, ax3)) = plt.subplots(ncols=4, nrows=1,  figsize=(10, 5))\n",
    "\n",
    "df.plot(kind = 'hist', y = 'bill_length_mm', color='c', alpha = 0.5, label = 'Bill Length', ax=ax)\n",
    "df.plot(kind = 'hist', y = 'bill_depth_mm', color='c', alpha = 0.5, label = 'bill_depth', ax=ax1)\n",
    "df.plot(kind = 'hist', y = 'flipper_length_mm', color='c', alpha = 0.5, label = 'flipper_length', ax=ax2)\n",
    "df.plot(kind = 'hist', y = 'body_mass_g', color='c', alpha = 0.5, label = 'body_mass', ax=ax3)\n",
    "\n",
    "plt.show()\n"
   ]
  },
  {
   "cell_type": "code",
   "execution_count": 45,
   "metadata": {},
   "outputs": [],
   "source": [
    "sex_count = df.sex.value_counts()\n",
    "island_count = df.island.value_counts()\n",
    "species_count = df.species.value_counts()"
   ]
  },
  {
   "cell_type": "markdown",
   "metadata": {},
   "source": [
    "## Task 4: Coin Flips & Entropy"
   ]
  },
  {
   "cell_type": "markdown",
   "metadata": {},
   "source": [
    "> Suppose you are flipping two coins, each with a probability p of giving heads. Plot the entropy of the total number of heads versus p."
   ]
  },
  {
   "cell_type": "markdown",
   "metadata": {},
   "source": [
    "## Task 5: Penguins Data Set - Plots"
   ]
  },
  {
   "cell_type": "markdown",
   "metadata": {},
   "source": [
    "> Create an appropriate individual plot for each of the variables in the penguin data set."
   ]
  },
  {
   "cell_type": "markdown",
   "metadata": {},
   "source": [
    "***\n",
    "\n",
    "## End"
   ]
  }
 ],
 "metadata": {
  "kernelspec": {
   "display_name": "base",
   "language": "python",
   "name": "python3"
  },
  "language_info": {
   "codemirror_mode": {
    "name": "ipython",
    "version": 3
   },
   "file_extension": ".py",
   "mimetype": "text/x-python",
   "name": "python",
   "nbconvert_exporter": "python",
   "pygments_lexer": "ipython3",
   "version": "3.10.9"
  },
  "orig_nbformat": 4
 },
 "nbformat": 4,
 "nbformat_minor": 2
}
